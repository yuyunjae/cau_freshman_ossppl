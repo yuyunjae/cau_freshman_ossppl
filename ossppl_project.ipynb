{
  "nbformat": 4,
  "nbformat_minor": 0,
  "metadata": {
    "colab": {
      "name": "ossppl_project_template.ipynb",
      "provenance": [],
      "collapsed_sections": [
        "NUD-hySm_uPc"
      ]
    },
    "kernelspec": {
      "name": "python3",
      "display_name": "Python 3"
    }
  },
  "cells": [
    {
      "cell_type": "markdown",
      "metadata": {
        "id": "NUD-hySm_uPc"
      },
      "source": [
        "# **Open Source SW and Python Programming Project: Implementation of Subway Navigation**\n",
        "\n",
        "In this project, you will implement a navigation system for Seoul subway stations, especially **step by step**\n",
        "\n",
        "\n"
      ]
    },
    {
      "cell_type": "markdown",
      "metadata": {
        "id": "uUsnepoeAhVl"
      },
      "source": [
        "# 0. Initialization\n",
        "\n",
        "Read subway station information by reading the file **simplified_subway_info_english.xlsx** or **simplified_subway_info_korean.xlsx**\n",
        "*  The excel file contains subway station information of Seoul subway line 1 ~ 4\n",
        "*  When you execute this sourcecode, you MUST upload these files in your Colab runtime environment\n",
        "*   **MUST NOT** change this code cell"
      ]
    },
    {
      "cell_type": "code",
      "metadata": {
        "id": "qnbOlA6o_mIl"
      },
      "source": [
        "import xlrd\n",
        "\n",
        "# Read data file\n",
        "data = xlrd.open_workbook(\"simplified_subway_info_english.xlsx\")\n",
        "data = data.sheet_by_name('Sheet1')\n",
        "\n",
        "# Store the loaded book object as a string list in subwayStation variable\n",
        "subwayStation = []\n",
        "for line in range(4) :\n",
        "    cur = [x for x in data.col_values(line) if x]    \n",
        "    subwayStation.append(cur[1:])"
      ],
      "execution_count": 27,
      "outputs": []
    },
    {
      "cell_type": "markdown",
      "metadata": {
        "id": "DBXU61Tn_vKS"
      },
      "source": [
        "# 1. Your implementation\n",
        "Let's start the implementation of a subway naviation system by using the loaded subway station information :)\n",
        "\n",
        "*   You can access the subway station information by referring to **subwayStation** variable (list type)"
      ]
    },
    {
      "cell_type": "code",
      "metadata": {
        "id": "7h-scy6AI8Re",
        "colab": {
          "base_uri": "https://localhost:8080/"
        },
        "outputId": "b68a58af-f17d-44db-f064-2409c16e4518"
      },
      "source": [
        "'''\n",
        "This is an example code for showing how to use the loaded data.\n",
        "You can remove this code.\n",
        "'''\n",
        "for i in range(4):\n",
        "    print(subwayStation[i]) # subwayStation[i] contatins the (i - 1)-th subway line information\n",
        "\n",
        "subway = {}\n",
        "for linenumber in range(1, 5):\n",
        "    subway['Line'+str(linenumber)] = tuple(subwayStation[linenumber-1])\n",
        "\n",
        "print(type(subway))\n",
        "for key in subway.keys():\n",
        "    print(key)\n",
        "for value in subway.values():\n",
        "    print(value)\n",
        "\n",
        "def printstar():\n",
        "    print(\"**********************************************\")\n",
        "\n",
        "def interface():\n",
        "    printstar()\n",
        "    print(\"1. Display subway line information (Line 1 ~ 4)\")\n",
        "    print(\"2. Display subway station information\")\n",
        "    print(\"3. Find a path between two subway stations\")\n",
        "    print(\"4. Exit\")\n",
        "    printstar()\n",
        "\n",
        "def dispSubwayLineInfo():\n",
        "    userinput1 = None\n",
        "    print(\"\\n\")\n",
        "    printstar()\n",
        "    print(\"Subway line information service\")\n",
        "    printstar()\n",
        "    while True:\n",
        "        userinput1 = int(input(\">> Please enter a subway line number (1 - 4): \"))\n",
        "        if userinput1 > 0  and userinput1 < 5 :\n",
        "            print(subway['Line'+str(userinput1)])\n",
        "            break\n",
        "    print(\"\\n\")\n",
        "    interface()\n",
        "\n",
        "def dispSubwayStationInfo():\n",
        "    userinput2 = None\n",
        "    print(\"\\n\")\n",
        "    printstar()\n",
        "    print(\"Subway station information service\")\n",
        "    printstar()\n",
        "    while True:\n",
        "        userinput2 = str(input(\">> Please enter a subway station name: \"))\n",
        "        num = 0\n",
        "        number = [0,0,0,0]\n",
        "        for i in range(4) :\n",
        "            for k in subway['Line'+str(i + 1)] :\n",
        "                if userinput2 == k :\n",
        "                    num = num + 1;\n",
        "                    number[i] = i + 1\n",
        "        if num == 1 :\n",
        "            print(userinput2, 'station is in Line ', end = '')\n",
        "            for a in range(4) :\n",
        "                if number[a] != 0 :\n",
        "                    print(number[a])\n",
        "            break\n",
        "        elif num > 1 :\n",
        "            print(userinput2, 'station is in Line ', end = '')\n",
        "            p = 0\n",
        "            for a in range(4) :\n",
        "                if (number[a] != 0) and (p == 0) :\n",
        "                    print(number[a], end = '')\n",
        "                    p = p + 1\n",
        "                elif (number[a] != 0) and (p > 0) :\n",
        "                    print(\" and\", number[a], end = '') \n",
        "            break\n",
        "    print(\"\\n\")\n",
        "    interface()   \n",
        "\n",
        "#def dispSubwayNavigationInfo():\n",
        "\n",
        "\n",
        "userinput = None\n",
        "interface()\n",
        "while True:\n",
        "    userinput = int(input(\"Please choose one of the options (1 - 3): \"))\n",
        "    if userinput == 1 :\n",
        "       dispSubwayLineInfo()\n",
        "\n",
        "    elif userinput == 2 :\n",
        "        dispSubwayStationInfo()\n",
        "\n",
        "    elif userinput == 3 :\n",
        "        dispSubwayNavigationInfo()\n",
        "                \n",
        "    elif userinput == 4 :\n",
        "        break\n",
        "\n",
        "        \n",
        "\n"
      ],
      "execution_count": 43,
      "outputs": [
        {
          "output_type": "stream",
          "text": [
            "['Soyosan', 'Dongducheon', 'Bosan', 'Dongducheon jungang', 'Jihaeng', 'Deokjeong', 'Deokgye', 'Yangju', 'Nogyang', 'Ganeung', 'Uijeongbu', 'Hoeryong', 'Mangwolsa', 'Dobongsan', 'Dobong', 'Banghak', 'Chang-dong', 'Nokcheon', 'Wolgye', 'Kwangwoon Univ.', 'Seokgye', 'Sinimun', 'Hankuk Univ. of Foreign Studies', 'Hoegi', 'Cheongnyangni', 'Jegi-dong', 'Sinseol-dong', 'Dongmyo', 'Dongdaemun', 'Jongno 5(o)-ga', 'Jongno 3(sam)-ga', 'Jonggak', 'City Hall', 'Seoul Station', 'Namyeong', 'Yongsan', 'Noryangjin', 'Daebang', 'Singil', 'Yeongdeungpo', 'Sindorim', 'Guro', 'Guil', 'Gaebong', 'Oryu-dong', 'Onsu', 'Yeokgok', 'Sosa', 'Bucheon', 'Jung-dong', 'Songnae', 'Bugae', 'Bupyeong', 'Baegun', 'Dongam', 'Ganseok', 'Juan', 'Dohwa', 'Jemulpo', 'Dowon', 'Dongincheon', 'Incheon']\n",
            "['Sindorim', 'Daerim', 'Guro Digital Complex', 'Sindaebang', 'Sillim', 'Bongcheon', 'Seoul Nat`l Univ.', 'Nakseongdae', 'Sadang', 'Bangbae', 'Seocho', 'Seoul Nat`l Univ. of Education', 'Gangnam', 'Yeoksam', 'Seolleung', 'Samseong', 'Sports Complex', 'Jamsilsaenae Station', 'Jamsil', 'Jamsillaru', 'Gangbyeon', 'Guui', 'Konkuk Univ.', 'Seongsu', 'Ttukseom', 'Hanyang Univ.', 'Wangsimni', 'Sangwangsimni', 'Sindang', 'Dongdaemun History  Culture Park', 'Euljiro 4(sa)-ga', 'Euljiro 3(sam)-ga', 'Euljiro 1(il)-ga', 'City Hall', 'Chungjeongno', 'Ahyeon', 'Ewha Womans Univ.', 'Sinchon', 'Hongik Univ.', 'Hapjeong', 'Dangsan', 'Yeongdeungpo-gu Office', 'Mullae']\n",
            "['Daehwa', 'Juyeop', 'Jeongbalsan', 'Madu', 'Baekseok', 'Daegok', 'Hwajeong', 'Wondang', 'Wonheung', 'Samsong', 'Jichuk', 'Gupabal', 'Yeonsinnae', 'Bulgwang', 'Nokbeon', 'Hongje', 'Muakjae', 'Dongnimmun', 'Gyeongbokgung', 'Anguk', 'Jongno 3(sam)-ga', 'Euljiro 3(sam)-ga', 'Chungmuro', 'Dongguk Univ.', 'Yaksu', 'Geumho', 'Oksu', 'Apgujeong', 'Sinsa', 'Jamwon', 'Express Bus Terminal', 'Seoul Nat`l Univ. of Education', 'Nambu Bus Terminal', 'Yangjae', 'Maebong', 'Dogok', 'Daechi', 'Hangnyeoul', 'Daecheong', 'Irwon', 'Suseo', 'Garak Market', 'National Police Hospital', 'Ogeum']\n",
            "['Danggogae', 'Sanggye', 'Nowon', 'Chang-dong', 'Ssangmun', 'Suyu', 'Mia', 'Miasamgeori', 'Gireum', 'Sungshin Women`s Univ.', 'Hansung Univ.', 'Hyehwa', 'Dongdaemun', 'Dongdaemun History  Culture Park', 'Chungmuro', 'Myeong-dong', 'Hoehyeon', 'Seoul Station', 'Sookmyung Women`s Univ.', 'Samgakji', 'Sinyongsan', 'Ichon', 'Dongjak', 'Chongshin Univ.', 'Sadang', 'Namtaeryeong', 'Seonbawi', 'Seoul Racecourse Park', 'Seoul Grand Park', 'Gwacheon', 'Government Complex Gwacheon', 'Indeogwon', 'Pyeongchon', 'Beomgye', 'Geumjeong', 'Sanbon', 'Surisan', 'Daeyami', 'Banwol', 'Sangnoksu', 'Hanyang Univ. at Ansan', 'Jungang', 'Gojan', 'Choji', 'Ansan', 'Singil oncheon', 'Jeongwang', 'Oido']\n",
            "<class 'dict'>\n",
            "Line1\n",
            "Line2\n",
            "Line3\n",
            "Line4\n",
            "('Soyosan', 'Dongducheon', 'Bosan', 'Dongducheon jungang', 'Jihaeng', 'Deokjeong', 'Deokgye', 'Yangju', 'Nogyang', 'Ganeung', 'Uijeongbu', 'Hoeryong', 'Mangwolsa', 'Dobongsan', 'Dobong', 'Banghak', 'Chang-dong', 'Nokcheon', 'Wolgye', 'Kwangwoon Univ.', 'Seokgye', 'Sinimun', 'Hankuk Univ. of Foreign Studies', 'Hoegi', 'Cheongnyangni', 'Jegi-dong', 'Sinseol-dong', 'Dongmyo', 'Dongdaemun', 'Jongno 5(o)-ga', 'Jongno 3(sam)-ga', 'Jonggak', 'City Hall', 'Seoul Station', 'Namyeong', 'Yongsan', 'Noryangjin', 'Daebang', 'Singil', 'Yeongdeungpo', 'Sindorim', 'Guro', 'Guil', 'Gaebong', 'Oryu-dong', 'Onsu', 'Yeokgok', 'Sosa', 'Bucheon', 'Jung-dong', 'Songnae', 'Bugae', 'Bupyeong', 'Baegun', 'Dongam', 'Ganseok', 'Juan', 'Dohwa', 'Jemulpo', 'Dowon', 'Dongincheon', 'Incheon')\n",
            "('Sindorim', 'Daerim', 'Guro Digital Complex', 'Sindaebang', 'Sillim', 'Bongcheon', 'Seoul Nat`l Univ.', 'Nakseongdae', 'Sadang', 'Bangbae', 'Seocho', 'Seoul Nat`l Univ. of Education', 'Gangnam', 'Yeoksam', 'Seolleung', 'Samseong', 'Sports Complex', 'Jamsilsaenae Station', 'Jamsil', 'Jamsillaru', 'Gangbyeon', 'Guui', 'Konkuk Univ.', 'Seongsu', 'Ttukseom', 'Hanyang Univ.', 'Wangsimni', 'Sangwangsimni', 'Sindang', 'Dongdaemun History  Culture Park', 'Euljiro 4(sa)-ga', 'Euljiro 3(sam)-ga', 'Euljiro 1(il)-ga', 'City Hall', 'Chungjeongno', 'Ahyeon', 'Ewha Womans Univ.', 'Sinchon', 'Hongik Univ.', 'Hapjeong', 'Dangsan', 'Yeongdeungpo-gu Office', 'Mullae')\n",
            "('Daehwa', 'Juyeop', 'Jeongbalsan', 'Madu', 'Baekseok', 'Daegok', 'Hwajeong', 'Wondang', 'Wonheung', 'Samsong', 'Jichuk', 'Gupabal', 'Yeonsinnae', 'Bulgwang', 'Nokbeon', 'Hongje', 'Muakjae', 'Dongnimmun', 'Gyeongbokgung', 'Anguk', 'Jongno 3(sam)-ga', 'Euljiro 3(sam)-ga', 'Chungmuro', 'Dongguk Univ.', 'Yaksu', 'Geumho', 'Oksu', 'Apgujeong', 'Sinsa', 'Jamwon', 'Express Bus Terminal', 'Seoul Nat`l Univ. of Education', 'Nambu Bus Terminal', 'Yangjae', 'Maebong', 'Dogok', 'Daechi', 'Hangnyeoul', 'Daecheong', 'Irwon', 'Suseo', 'Garak Market', 'National Police Hospital', 'Ogeum')\n",
            "('Danggogae', 'Sanggye', 'Nowon', 'Chang-dong', 'Ssangmun', 'Suyu', 'Mia', 'Miasamgeori', 'Gireum', 'Sungshin Women`s Univ.', 'Hansung Univ.', 'Hyehwa', 'Dongdaemun', 'Dongdaemun History  Culture Park', 'Chungmuro', 'Myeong-dong', 'Hoehyeon', 'Seoul Station', 'Sookmyung Women`s Univ.', 'Samgakji', 'Sinyongsan', 'Ichon', 'Dongjak', 'Chongshin Univ.', 'Sadang', 'Namtaeryeong', 'Seonbawi', 'Seoul Racecourse Park', 'Seoul Grand Park', 'Gwacheon', 'Government Complex Gwacheon', 'Indeogwon', 'Pyeongchon', 'Beomgye', 'Geumjeong', 'Sanbon', 'Surisan', 'Daeyami', 'Banwol', 'Sangnoksu', 'Hanyang Univ. at Ansan', 'Jungang', 'Gojan', 'Choji', 'Ansan', 'Singil oncheon', 'Jeongwang', 'Oido')\n",
            "**********************************************\n",
            "1. Display subway line information (Line 1 ~ 4)\n",
            "2. Display subway station information\n",
            "3. Exit\n",
            "**********************************************\n",
            "Please choose one of the options (1 - 3): 3\n"
          ],
          "name": "stdout"
        }
      ]
    }
  ]
}