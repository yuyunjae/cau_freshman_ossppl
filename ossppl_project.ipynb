{
  "nbformat": 4,
  "nbformat_minor": 0,
  "metadata": {
    "colab": {
      "name": "ossppl_project_template.ipynb",
      "provenance": [],
      "collapsed_sections": [
        "NUD-hySm_uPc"
      ]
    },
    "kernelspec": {
      "name": "python3",
      "display_name": "Python 3"
    }
  },
  "cells": [
    {
      "cell_type": "markdown",
      "metadata": {
        "id": "NUD-hySm_uPc"
      },
      "source": [
        "# **Open Source SW and Python Programming Project: Implementation of Subway Navigation**\n",
        "\n",
        "In this project, you will implement a navigation system for Seoul subway stations, especially **step by step**\n",
        "\n",
        "\n"
      ]
    },
    {
      "cell_type": "markdown",
      "metadata": {
        "id": "uUsnepoeAhVl"
      },
      "source": [
        "# 0. Initialization\n",
        "\n",
        "Read subway station information by reading the file **simplified_subway_info_english.xlsx** or **simplified_subway_info_korean.xlsx**\n",
        "*  The excel file contains subway station information of Seoul subway line 1 ~ 4\n",
        "*  When you execute this sourcecode, you MUST upload these files in your Colab runtime environment\n",
        "*   **MUST NOT** change this code cell"
      ]
    },
    {
      "cell_type": "code",
      "metadata": {
        "id": "qnbOlA6o_mIl"
      },
      "source": [
        "import xlrd\n",
        "\n",
        "# Read data file\n",
        "data = xlrd.open_workbook(\"simplified_subway_info_english.xlsx\")\n",
        "data = data.sheet_by_name('Sheet1')\n",
        "\n",
        "# Store the loaded book object as a string list in subwayStation variable\n",
        "subwayStation = []\n",
        "for line in range(4) :\n",
        "    cur = [x for x in data.col_values(line) if x]    \n",
        "    subwayStation.append(cur[1:])"
      ],
      "execution_count": 4,
      "outputs": []
    },
    {
      "cell_type": "markdown",
      "metadata": {
        "id": "DBXU61Tn_vKS"
      },
      "source": [
        "# 1. Your implementation\n",
        "Let's start the implementation of a subway naviation system by using the loaded subway station information :)\n",
        "\n",
        "*   You can access the subway station information by referring to **subwayStation** variable (list type)"
      ]
    },
    {
      "cell_type": "code",
      "metadata": {
        "id": "7h-scy6AI8Re",
        "outputId": "f34e2a65-829b-486d-9ee7-af4c333bf7e5",
        "colab": {
          "base_uri": "https://localhost:8080/"
        }
      },
      "source": [
        "'''\n",
        "This is an example code for showing how to use the loaded data.\n",
        "You can remove this code.\n",
        "\n",
        "for i in range(4) :\n",
        "    print(subwayStation[i]) # subwayStation[i] contatins the (i - 1)-th subway line information\n",
        "'''\n",
        "def printstar():\n",
        "    print(\"**********************************************\")\n",
        "\n",
        "def interface():\n",
        "    printstar()\n",
        "    print(\"1. Display subway line information (Line 1 ~ 4)\")\n",
        "    print(\"2. Display subway station information\")\n",
        "    print(\"3. Exit\")\n",
        "    printstar()\n",
        "\n",
        "userinput = None\n",
        "interface()\n",
        "while True:\n",
        "    userinput = int(input(\"Please choose one of the options (1 - 3): \"))\n",
        "    if userinput == 1 :\n",
        "        userinput1 = None\n",
        "        print(\"\\n\")\n",
        "        printstar()\n",
        "        print(\"Subway line information service\")\n",
        "        printstar()\n",
        "        while True:\n",
        "            userinput1 = int(input(\">> Please enter a subway line number (1 - 4): \"))\n",
        "            if userinput1 > 0  and userinput1 < 5 :\n",
        "                print(subwayStation[userinput1 - 1])\n",
        "                break\n",
        "        print(\"\\n\")\n",
        "        interface()\n",
        "\n",
        "    elif userinput == 2 :\n",
        "        userinput2 = None\n",
        "        print(\"\\n\")\n",
        "        printstar()\n",
        "        print(\"Subway station information service\")\n",
        "        printstar()\n",
        "        while True:\n",
        "            userinput2 = str(input(\">> Please enter a subway station name: \"))\n",
        "            num = 0\n",
        "            number = [0,0,0,0]\n",
        "            for i in range(4) :\n",
        "                for k in subwayStation[i] :\n",
        "                    if userinput2 == k :\n",
        "                        num = num + 1;\n",
        "                        number[i] = i + 1\n",
        "            if num == 1 :\n",
        "                print(userinput2, 'station is in Line ', end = '')\n",
        "                for a in range(4) :\n",
        "                    if number[a] != 0 :\n",
        "                        print(number[a])\n",
        "                break\n",
        "            elif num > 1 :\n",
        "                print(userinput2, 'station is in Line ', end = '')\n",
        "                p = 0\n",
        "                for a in range(4) :\n",
        "                    if (number[a] != 0) and (p == 0) :\n",
        "                        print(number[a], end = '')\n",
        "                        p = p + 1\n",
        "                    elif (number[a] != 0) and (p > 0) :\n",
        "                        print(\" and\", number[a], end = '') \n",
        "                break\n",
        "        print(\"\\n\")\n",
        "        interface()\n",
        "             \n",
        "    elif userinput == 3 :\n",
        "        break\n",
        "\n",
        "        \n",
        "\n"
      ],
      "execution_count": 41,
      "outputs": [
        {
          "output_type": "stream",
          "text": [
            "**********************************************\n",
            "1. Display subway line information (Line 1 ~ 4)\n",
            "2. Display subway station information\n",
            "3. Exit\n",
            "**********************************************\n",
            "Please choose one of the options (1 - 3): 1\n",
            "\n",
            "\n",
            "**********************************************\n",
            "Subway line information service\n",
            "**********************************************\n",
            ">> Please enter a subway line number (1 - 4): 1\n",
            "['Soyosan', 'Dongducheon', 'Bosan', 'Dongducheon jungang', 'Jihaeng', 'Deokjeong', 'Deokgye', 'Yangju', 'Nogyang', 'Ganeung', 'Uijeongbu', 'Hoeryong', 'Mangwolsa', 'Dobongsan', 'Dobong', 'Banghak', 'Chang-dong', 'Nokcheon', 'Wolgye', 'Kwangwoon Univ.', 'Seokgye', 'Sinimun', 'Hankuk Univ. of Foreign Studies', 'Hoegi', 'Cheongnyangni', 'Jegi-dong', 'Sinseol-dong', 'Dongmyo', 'Dongdaemun', 'Jongno 5(o)-ga', 'Jongno 3(sam)-ga', 'Jonggak', 'City Hall', 'Seoul Station', 'Namyeong', 'Yongsan', 'Noryangjin', 'Daebang', 'Singil', 'Yeongdeungpo', 'Sindorim', 'Guro', 'Guil', 'Gaebong', 'Oryu-dong', 'Onsu', 'Yeokgok', 'Sosa', 'Bucheon', 'Jung-dong', 'Songnae', 'Bugae', 'Bupyeong', 'Baegun', 'Dongam', 'Ganseok', 'Juan', 'Dohwa', 'Jemulpo', 'Dowon', 'Dongincheon', 'Incheon']\n",
            "\n",
            "\n",
            "**********************************************\n",
            "1. Display subway line information (Line 1 ~ 4)\n",
            "2. Display subway station information\n",
            "3. Exit\n",
            "**********************************************\n",
            "Please choose one of the options (1 - 3): 2\n",
            "\n",
            "\n",
            "**********************************************\n",
            "Subway station information service\n",
            "**********************************************\n",
            ">> Please enter a subway station name: 4\n",
            ">> Please enter a subway station name: Sadang\n",
            "Sadang station is in Line 2 and 4\n",
            "\n",
            "**********************************************\n",
            "1. Display subway line information (Line 1 ~ 4)\n",
            "2. Display subway station information\n",
            "3. Exit\n",
            "**********************************************\n",
            "Please choose one of the options (1 - 3): 2\n",
            "\n",
            "\n",
            "**********************************************\n",
            "Subway station information service\n",
            "**********************************************\n",
            ">> Please enter a subway station name: Jihaeng\n",
            "Jihaeng station is in Line 1\n",
            "\n",
            "\n",
            "**********************************************\n",
            "1. Display subway line information (Line 1 ~ 4)\n",
            "2. Display subway station information\n",
            "3. Exit\n",
            "**********************************************\n",
            "Please choose one of the options (1 - 3): 3\n"
          ],
          "name": "stdout"
        }
      ]
    }
  ]
}