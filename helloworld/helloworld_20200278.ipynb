{
  "nbformat": 4,
  "nbformat_minor": 0,
  "metadata": {
    "colab": {
      "name": "helloworld_20200278.ipynb",
      "provenance": [],
      "authorship_tag": "ABX9TyM/rnLcLqtInXZbcq4C6RH5",
      "include_colab_link": true
    },
    "kernelspec": {
      "name": "python3",
      "display_name": "Python 3"
    }
  },
  "cells": [
    {
      "cell_type": "markdown",
      "metadata": {
        "id": "view-in-github",
        "colab_type": "text"
      },
      "source": [
        "<a href=\"https://colab.research.google.com/github/yuyunjae/helloworld/blob/main/helloworld_20200278.ipynb\" target=\"_parent\"><img src=\"https://colab.research.google.com/assets/colab-badge.svg\" alt=\"Open In Colab\"/></a>"
      ]
    },
    {
      "cell_type": "code",
      "metadata": {
        "id": "C80Eph4HIOSq",
        "outputId": "c215e809-b904-4f79-ff08-b4ce2dfcd8fb",
        "colab": {
          "base_uri": "https://localhost:8080/",
          "height": 55
        }
      },
      "source": [
        "print('helloworld', 20200278)\n",
        "print('open source software homework')"
      ],
      "execution_count": null,
      "outputs": [
        {
          "output_type": "stream",
          "text": [
            "helloworld 20200278\n",
            "open source software\n"
          ],
          "name": "stdout"
        }
      ]
    }
  ]
}